{
 "cells": [
  {
   "cell_type": "code",
   "execution_count": 1,
   "id": "b17cd9ae",
   "metadata": {},
   "outputs": [],
   "source": [
    "import requests                        # for sending the request to the website\n",
    "from bs4 import BeautifulSoup          # for scraping the website\n",
    "import pandas as pd                    # for data exploration\n",
    "import re                              # for regular expression"
   ]
  },
  {
   "cell_type": "code",
   "execution_count": 2,
   "id": "a259424d",
   "metadata": {},
   "outputs": [],
   "source": [
    "headers = {\"User-Agent\": \"Mozilla/5.0 (Macintosh; Intel Mac OS X 10_15_7) AppleWebKit/537.36 (KHTML, like Gecko) Chrome/111.0.0.0 Safari/537.36\"}\n",
    "#Its a user agent, you need to get the user agent for your computer"
   ]
  },
  {
   "cell_type": "markdown",
   "id": "e9d450a3",
   "metadata": {},
   "source": [
    "requests.get - used to request data from a server. The data is typically in the form of a file or a web page. When you enter a URL into your web browser, your browser is sending a GET request to the server that hosts the website."
   ]
  },
  {
   "cell_type": "code",
   "execution_count": 5,
   "id": "4f6360e9",
   "metadata": {},
   "outputs": [
    {
     "data": {
      "text/plain": [
       "<Response [200]>"
      ]
     },
     "execution_count": 5,
     "metadata": {},
     "output_type": "execute_result"
    }
   ],
   "source": [
    "response = requests.get(\"https://www.jiomart.com/c/groceries/fruits-vegetables/fresh-vegetables/229\", headers = headers)\n",
    "content = response.content\n",
    "#response      "
   ]
  },
  {
   "cell_type": "markdown",
   "id": "e93cc599",
   "metadata": {},
   "source": [
    "After sending request to server make sure that you're getting response code as 200"
   ]
  },
  {
   "cell_type": "code",
   "execution_count": 9,
   "id": "40829262",
   "metadata": {},
   "outputs": [],
   "source": [
    "soup = BeautifulSoup(content, 'html.parser')     # use BeautifulSoup for pulling data out of html files\n",
    "#print(soup)"
   ]
  },
  {
   "cell_type": "code",
   "execution_count": 11,
   "id": "00b5c955",
   "metadata": {},
   "outputs": [],
   "source": [
    "veg_list = soup.find_all(\"div\", class_ = \"plp-card-container\")\n",
    "#print(veg_list)"
   ]
  },
  {
   "cell_type": "code",
   "execution_count": 12,
   "id": "ec48a124",
   "metadata": {},
   "outputs": [],
   "source": [
    "items = []               # for saving vegetable names\n",
    "price = []               # for saving vegetable price"
   ]
  },
  {
   "cell_type": "code",
   "execution_count": 13,
   "id": "d936172e",
   "metadata": {},
   "outputs": [
    {
     "name": "stdout",
     "output_type": "stream",
     "text": [
      "                                         Items   Price\n",
      "1                                Potato per kg  ₹19.00\n",
      "2       Sweet Corn 1 pc (Approx 250 g - 450 g)  ₹14.00\n",
      "3                                   Onion 1 kg  ₹19.00\n",
      "4    Big Coconut 1 pc ( Approx 350 g - 600 g )  ₹25.00\n",
      "5                            Onion 5 kg (Pack)  ₹90.00\n",
      "6                                  Tomato 1 kg  ₹29.00\n",
      "7                    Lauki (Bottle Gourd) 1 kg  ₹32.00\n",
      "8                          Bhendi (Okra) 250 g  ₹17.00\n",
      "9                          Carrot Orange 500 g  ₹14.50\n",
      "10                          Sweet Potato 500 g  ₹35.00\n",
      "11                             Raw Mango 500 g  ₹39.00\n",
      "12     Drumstick (Each) (Approx. 25 g - 100 g)   ₹5.00\n",
      "13                              Beetroot 500 g  ₹22.00\n",
      "14                           Potato Baby 500 g  ₹22.00\n",
      "15  Curry Leaves 1 bunch (Approx 20 g - 100 g)   ₹6.00\n",
      "16                      Cucumber Regular 500 g  ₹24.00\n",
      "17                        Green Capsicum 500 g  ₹45.00\n",
      "18                              Cucumber 500 g  ₹18.00\n",
      "19                        Cucumber Madras 1 kg  ₹80.00\n",
      "20    Cauliflower 1 pc (Approx 600 g - 1000 g)  ₹32.00\n"
     ]
    }
   ],
   "source": [
    "for vg in veg_list:\n",
    "    veg = vg.find(\"div\", class_ = \"plp-card-details-name line-clamp jm-body-xs jm-fc-primary-grey-80\").text.replace('\\n', ' ')\n",
    "    rate = vg.find(\"div\", class_ = \"plp-card-details-price\").text.replace('\\n', ' ')\n",
    "    \n",
    "    items.append(veg.strip())\n",
    "    price.append(rate.strip())\n",
    "    \n",
    "header = ['Items', 'Price']\n",
    "indices = [i for i in range(1, len(items) + 1)]\n",
    "jiomart = zip(items, price)\n",
    "\n",
    "dt = pd.DataFrame(list(jiomart), columns = header, index = indices)\n",
    "dt.to_csv(\"Jiomart Fresh Vegetables.csv\")          #for csv file\n",
    "print(dt)"
   ]
  },
  {
   "cell_type": "code",
   "execution_count": null,
   "id": "f2acc7f2",
   "metadata": {},
   "outputs": [],
   "source": []
  }
 ],
 "metadata": {
  "kernelspec": {
   "display_name": "Python 3 (ipykernel)",
   "language": "python",
   "name": "python3"
  },
  "language_info": {
   "codemirror_mode": {
    "name": "ipython",
    "version": 3
   },
   "file_extension": ".py",
   "mimetype": "text/x-python",
   "name": "python",
   "nbconvert_exporter": "python",
   "pygments_lexer": "ipython3",
   "version": "3.9.13"
  }
 },
 "nbformat": 4,
 "nbformat_minor": 5
}
